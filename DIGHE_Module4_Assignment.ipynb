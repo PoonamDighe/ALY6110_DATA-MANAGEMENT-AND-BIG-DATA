{
  "nbformat": 4,
  "nbformat_minor": 0,
  "metadata": {
    "colab": {
      "provenance": [],
      "authorship_tag": "ABX9TyPLzEiWUgGb+cI2aUZhk6SL",
      "include_colab_link": true
    },
    "kernelspec": {
      "name": "python3",
      "display_name": "Python 3"
    },
    "language_info": {
      "name": "python"
    }
  },
  "cells": [
    {
      "cell_type": "markdown",
      "metadata": {
        "id": "view-in-github",
        "colab_type": "text"
      },
      "source": [
        "<a href=\"https://colab.research.google.com/github/PoonamDighe/ALY6110_DATA-MANAGEMENT-AND-BIG-DATA/blob/master/DIGHE_Module4_Assignment.ipynb\" target=\"_parent\"><img src=\"https://colab.research.google.com/assets/colab-badge.svg\" alt=\"Open In Colab\"/></a>"
      ]
    },
    {
      "cell_type": "code",
      "execution_count": 1,
      "metadata": {
        "id": "S_XlXeHjHAB2"
      },
      "outputs": [],
      "source": [
        " # install java\n",
        "!apt-get install openjdk-8-jdk-headless -qq > /dev/null\n",
        "\n",
        "# install spark (change the version number if needed)\n",
        "!wget -q https://archive.apache.org/dist/spark/spark-3.0.0/spark-3.0.0-bin-hadoop3.2.tgz\n",
        "\n",
        "# unzip the spark file to the current folder\n",
        "!tar xf spark-3.0.0-bin-hadoop3.2.tgz\n",
        "\n",
        "# set your spark folder to your system path environment. \n",
        "import os\n",
        "os.environ[\"JAVA_HOME\"] = \"/usr/lib/jvm/java-8-openjdk-amd64\"\n",
        "os.environ[\"SPARK_HOME\"] = \"/content/spark-3.0.0-bin-hadoop3.2\"\n",
        "\n",
        "\n",
        "# install findspark using pip\n",
        "!pip install -q findspark"
      ]
    },
    {
      "cell_type": "code",
      "source": [
        "import findspark\n",
        "findspark.init()\n",
        "from pyspark.sql import SparkSession\n",
        "spark = SparkSession.builder.master(\"local[*]\").getOrCreate()"
      ],
      "metadata": {
        "id": "Cpo7a1MsHHuK"
      },
      "execution_count": 2,
      "outputs": []
    },
    {
      "cell_type": "code",
      "source": [
        "from pyspark.ml.feature import VectorAssembler\n",
        "from pyspark.ml.regression import LinearRegression\n",
        "from pyspark.ml.feature import VectorAssembler, StandardScaler, PCA\n",
        "import numpy as np\n",
        "import pandas as pd\n",
        "import matplotlib.pyplot as plt"
      ],
      "metadata": {
        "id": "VQ1DDrQOHKYP"
      },
      "execution_count": 3,
      "outputs": []
    },
    {
      "cell_type": "code",
      "source": [
        "from google.colab import files\n",
        "uploaded = files.upload()"
      ],
      "metadata": {
        "colab": {
          "base_uri": "https://localhost:8080/",
          "height": 73
        },
        "id": "QgFg59IIHLEF",
        "outputId": "8143a1ad-515d-4bbd-ee40-65834a1b517e"
      },
      "execution_count": 4,
      "outputs": [
        {
          "output_type": "display_data",
          "data": {
            "text/plain": [
              "<IPython.core.display.HTML object>"
            ],
            "text/html": [
              "\n",
              "     <input type=\"file\" id=\"files-ec8cd4f4-81cc-49d9-aa76-ae6d38f3c220\" name=\"files[]\" multiple disabled\n",
              "        style=\"border:none\" />\n",
              "     <output id=\"result-ec8cd4f4-81cc-49d9-aa76-ae6d38f3c220\">\n",
              "      Upload widget is only available when the cell has been executed in the\n",
              "      current browser session. Please rerun this cell to enable.\n",
              "      </output>\n",
              "      <script>// Copyright 2017 Google LLC\n",
              "//\n",
              "// Licensed under the Apache License, Version 2.0 (the \"License\");\n",
              "// you may not use this file except in compliance with the License.\n",
              "// You may obtain a copy of the License at\n",
              "//\n",
              "//      http://www.apache.org/licenses/LICENSE-2.0\n",
              "//\n",
              "// Unless required by applicable law or agreed to in writing, software\n",
              "// distributed under the License is distributed on an \"AS IS\" BASIS,\n",
              "// WITHOUT WARRANTIES OR CONDITIONS OF ANY KIND, either express or implied.\n",
              "// See the License for the specific language governing permissions and\n",
              "// limitations under the License.\n",
              "\n",
              "/**\n",
              " * @fileoverview Helpers for google.colab Python module.\n",
              " */\n",
              "(function(scope) {\n",
              "function span(text, styleAttributes = {}) {\n",
              "  const element = document.createElement('span');\n",
              "  element.textContent = text;\n",
              "  for (const key of Object.keys(styleAttributes)) {\n",
              "    element.style[key] = styleAttributes[key];\n",
              "  }\n",
              "  return element;\n",
              "}\n",
              "\n",
              "// Max number of bytes which will be uploaded at a time.\n",
              "const MAX_PAYLOAD_SIZE = 100 * 1024;\n",
              "\n",
              "function _uploadFiles(inputId, outputId) {\n",
              "  const steps = uploadFilesStep(inputId, outputId);\n",
              "  const outputElement = document.getElementById(outputId);\n",
              "  // Cache steps on the outputElement to make it available for the next call\n",
              "  // to uploadFilesContinue from Python.\n",
              "  outputElement.steps = steps;\n",
              "\n",
              "  return _uploadFilesContinue(outputId);\n",
              "}\n",
              "\n",
              "// This is roughly an async generator (not supported in the browser yet),\n",
              "// where there are multiple asynchronous steps and the Python side is going\n",
              "// to poll for completion of each step.\n",
              "// This uses a Promise to block the python side on completion of each step,\n",
              "// then passes the result of the previous step as the input to the next step.\n",
              "function _uploadFilesContinue(outputId) {\n",
              "  const outputElement = document.getElementById(outputId);\n",
              "  const steps = outputElement.steps;\n",
              "\n",
              "  const next = steps.next(outputElement.lastPromiseValue);\n",
              "  return Promise.resolve(next.value.promise).then((value) => {\n",
              "    // Cache the last promise value to make it available to the next\n",
              "    // step of the generator.\n",
              "    outputElement.lastPromiseValue = value;\n",
              "    return next.value.response;\n",
              "  });\n",
              "}\n",
              "\n",
              "/**\n",
              " * Generator function which is called between each async step of the upload\n",
              " * process.\n",
              " * @param {string} inputId Element ID of the input file picker element.\n",
              " * @param {string} outputId Element ID of the output display.\n",
              " * @return {!Iterable<!Object>} Iterable of next steps.\n",
              " */\n",
              "function* uploadFilesStep(inputId, outputId) {\n",
              "  const inputElement = document.getElementById(inputId);\n",
              "  inputElement.disabled = false;\n",
              "\n",
              "  const outputElement = document.getElementById(outputId);\n",
              "  outputElement.innerHTML = '';\n",
              "\n",
              "  const pickedPromise = new Promise((resolve) => {\n",
              "    inputElement.addEventListener('change', (e) => {\n",
              "      resolve(e.target.files);\n",
              "    });\n",
              "  });\n",
              "\n",
              "  const cancel = document.createElement('button');\n",
              "  inputElement.parentElement.appendChild(cancel);\n",
              "  cancel.textContent = 'Cancel upload';\n",
              "  const cancelPromise = new Promise((resolve) => {\n",
              "    cancel.onclick = () => {\n",
              "      resolve(null);\n",
              "    };\n",
              "  });\n",
              "\n",
              "  // Wait for the user to pick the files.\n",
              "  const files = yield {\n",
              "    promise: Promise.race([pickedPromise, cancelPromise]),\n",
              "    response: {\n",
              "      action: 'starting',\n",
              "    }\n",
              "  };\n",
              "\n",
              "  cancel.remove();\n",
              "\n",
              "  // Disable the input element since further picks are not allowed.\n",
              "  inputElement.disabled = true;\n",
              "\n",
              "  if (!files) {\n",
              "    return {\n",
              "      response: {\n",
              "        action: 'complete',\n",
              "      }\n",
              "    };\n",
              "  }\n",
              "\n",
              "  for (const file of files) {\n",
              "    const li = document.createElement('li');\n",
              "    li.append(span(file.name, {fontWeight: 'bold'}));\n",
              "    li.append(span(\n",
              "        `(${file.type || 'n/a'}) - ${file.size} bytes, ` +\n",
              "        `last modified: ${\n",
              "            file.lastModifiedDate ? file.lastModifiedDate.toLocaleDateString() :\n",
              "                                    'n/a'} - `));\n",
              "    const percent = span('0% done');\n",
              "    li.appendChild(percent);\n",
              "\n",
              "    outputElement.appendChild(li);\n",
              "\n",
              "    const fileDataPromise = new Promise((resolve) => {\n",
              "      const reader = new FileReader();\n",
              "      reader.onload = (e) => {\n",
              "        resolve(e.target.result);\n",
              "      };\n",
              "      reader.readAsArrayBuffer(file);\n",
              "    });\n",
              "    // Wait for the data to be ready.\n",
              "    let fileData = yield {\n",
              "      promise: fileDataPromise,\n",
              "      response: {\n",
              "        action: 'continue',\n",
              "      }\n",
              "    };\n",
              "\n",
              "    // Use a chunked sending to avoid message size limits. See b/62115660.\n",
              "    let position = 0;\n",
              "    do {\n",
              "      const length = Math.min(fileData.byteLength - position, MAX_PAYLOAD_SIZE);\n",
              "      const chunk = new Uint8Array(fileData, position, length);\n",
              "      position += length;\n",
              "\n",
              "      const base64 = btoa(String.fromCharCode.apply(null, chunk));\n",
              "      yield {\n",
              "        response: {\n",
              "          action: 'append',\n",
              "          file: file.name,\n",
              "          data: base64,\n",
              "        },\n",
              "      };\n",
              "\n",
              "      let percentDone = fileData.byteLength === 0 ?\n",
              "          100 :\n",
              "          Math.round((position / fileData.byteLength) * 100);\n",
              "      percent.textContent = `${percentDone}% done`;\n",
              "\n",
              "    } while (position < fileData.byteLength);\n",
              "  }\n",
              "\n",
              "  // All done.\n",
              "  yield {\n",
              "    response: {\n",
              "      action: 'complete',\n",
              "    }\n",
              "  };\n",
              "}\n",
              "\n",
              "scope.google = scope.google || {};\n",
              "scope.google.colab = scope.google.colab || {};\n",
              "scope.google.colab._files = {\n",
              "  _uploadFiles,\n",
              "  _uploadFilesContinue,\n",
              "};\n",
              "})(self);\n",
              "</script> "
            ]
          },
          "metadata": {}
        },
        {
          "output_type": "stream",
          "name": "stdout",
          "text": [
            "Saving Insurance.csv to Insurance.csv\n"
          ]
        }
      ]
    },
    {
      "cell_type": "code",
      "source": [
        "dataset = spark.read.csv('Insurance.csv', inferSchema=True, header = True)"
      ],
      "metadata": {
        "id": "2pnQl8M7HPHw"
      },
      "execution_count": 5,
      "outputs": []
    },
    {
      "cell_type": "code",
      "source": [
        "dataset.show(5)"
      ],
      "metadata": {
        "colab": {
          "base_uri": "https://localhost:8080/"
        },
        "id": "MkaIZIIxHRaQ",
        "outputId": "2fc324ae-e99b-49b6-c8cc-11b5b38519f9"
      },
      "execution_count": 6,
      "outputs": [
        {
          "output_type": "stream",
          "name": "stdout",
          "text": [
            "+---+------+----+--------+------+---------+--------+\n",
            "|age|   sex| bmi|children|smoker|   region|expenses|\n",
            "+---+------+----+--------+------+---------+--------+\n",
            "| 19|female|27.9|       0|     1|southwest|16884.92|\n",
            "| 18|  male|33.8|       1|     0|southeast| 1725.55|\n",
            "| 28|  male|33.0|       3|     0|southeast| 4449.46|\n",
            "| 33|  male|22.7|       0|     0|northwest|21984.47|\n",
            "| 32|  male|28.9|       0|     0|northwest| 3866.86|\n",
            "+---+------+----+--------+------+---------+--------+\n",
            "only showing top 5 rows\n",
            "\n"
          ]
        }
      ]
    },
    {
      "cell_type": "code",
      "source": [
        "row = dataset.count()\n",
        "print(row)"
      ],
      "metadata": {
        "colab": {
          "base_uri": "https://localhost:8080/"
        },
        "id": "dw-d5Nz1HVM4",
        "outputId": "1eb370cc-854e-479e-bb45-892fc1443b22"
      },
      "execution_count": 7,
      "outputs": [
        {
          "output_type": "stream",
          "name": "stdout",
          "text": [
            "1338\n"
          ]
        }
      ]
    },
    {
      "cell_type": "code",
      "source": [
        "dataset.printSchema()"
      ],
      "metadata": {
        "colab": {
          "base_uri": "https://localhost:8080/"
        },
        "id": "UYaGjcSfHXNn",
        "outputId": "ef34940a-ee1b-4ee2-e2b0-9fd9eb876539"
      },
      "execution_count": 8,
      "outputs": [
        {
          "output_type": "stream",
          "name": "stdout",
          "text": [
            "root\n",
            " |-- age: integer (nullable = true)\n",
            " |-- sex: string (nullable = true)\n",
            " |-- bmi: double (nullable = true)\n",
            " |-- children: integer (nullable = true)\n",
            " |-- smoker: integer (nullable = true)\n",
            " |-- region: string (nullable = true)\n",
            " |-- expenses: double (nullable = true)\n",
            "\n"
          ]
        }
      ]
    },
    {
      "cell_type": "code",
      "source": [
        "dataset.describe().show()"
      ],
      "metadata": {
        "colab": {
          "base_uri": "https://localhost:8080/"
        },
        "id": "77jG49FZHXyg",
        "outputId": "24164e2f-0200-4746-80fe-9f9ecedb06d0"
      },
      "execution_count": 9,
      "outputs": [
        {
          "output_type": "stream",
          "name": "stdout",
          "text": [
            "+-------+------------------+------+------------------+-----------------+-------------------+---------+------------------+\n",
            "|summary|               age|   sex|               bmi|         children|             smoker|   region|          expenses|\n",
            "+-------+------------------+------+------------------+-----------------+-------------------+---------+------------------+\n",
            "|  count|              1338|  1338|              1338|             1338|               1338|     1338|              1338|\n",
            "|   mean| 39.20702541106129|  null|30.665470852017993|  1.0949177877429|0.20478325859491778|     null|13270.422414050803|\n",
            "| stddev|14.049960379216147|  null|  6.09838219000336|1.205492739781914|0.40369403754561717|     null|12110.011239706473|\n",
            "|    min|                18|female|              16.0|                0|                  0|northeast|           1121.87|\n",
            "|    max|                64|  male|              53.1|                5|                  1|southwest|          63770.43|\n",
            "+-------+------------------+------+------------------+-----------------+-------------------+---------+------------------+\n",
            "\n"
          ]
        }
      ]
    },
    {
      "cell_type": "code",
      "source": [
        "#Vectorization\n",
        "only_feature = ['age','bmi','children','smoker']"
      ],
      "metadata": {
        "id": "KD_H4dDiHZvO"
      },
      "execution_count": 10,
      "outputs": []
    },
    {
      "cell_type": "code",
      "source": [
        "assembler = VectorAssembler(inputCols=only_feature, outputCol = 'feature')"
      ],
      "metadata": {
        "id": "c1vkEv5jHcTP"
      },
      "execution_count": 11,
      "outputs": []
    },
    {
      "cell_type": "code",
      "source": [
        "feat_df = assembler.transform(dataset).select('feature')"
      ],
      "metadata": {
        "id": "Bt8ye7k0H75L"
      },
      "execution_count": 12,
      "outputs": []
    },
    {
      "cell_type": "code",
      "source": [
        "feat_df.show(5)"
      ],
      "metadata": {
        "colab": {
          "base_uri": "https://localhost:8080/"
        },
        "id": "Is7JMs7oH-tH",
        "outputId": "f34ab2c0-7f44-41b0-c502-4914e3108d46"
      },
      "execution_count": 13,
      "outputs": [
        {
          "output_type": "stream",
          "name": "stdout",
          "text": [
            "+-------------------+\n",
            "|            feature|\n",
            "+-------------------+\n",
            "|[19.0,27.9,0.0,1.0]|\n",
            "|[18.0,33.8,1.0,0.0]|\n",
            "|[28.0,33.0,3.0,0.0]|\n",
            "|[33.0,22.7,0.0,0.0]|\n",
            "|[32.0,28.9,0.0,0.0]|\n",
            "+-------------------+\n",
            "only showing top 5 rows\n",
            "\n"
          ]
        }
      ]
    },
    {
      "cell_type": "code",
      "source": [
        "#Standardize features for principal component analysis\n",
        "scaler = StandardScaler(\n",
        "    inputCol = 'feature',\n",
        "    outputCol = 'scaledFeature',\n",
        "    withMean = True,\n",
        "    withStd = True\n",
        ").fit(feat_df)"
      ],
      "metadata": {
        "id": "u9R3NjLKIB5M"
      },
      "execution_count": 14,
      "outputs": []
    },
    {
      "cell_type": "code",
      "source": [
        "df_scaled = scaler.transform(feat_df)\n",
        "df_scaled.show(6)"
      ],
      "metadata": {
        "colab": {
          "base_uri": "https://localhost:8080/"
        },
        "id": "TfPK6z0_IFc1",
        "outputId": "98ed8117-b69b-41e6-f98f-48fbfd2668f4"
      },
      "execution_count": 15,
      "outputs": [
        {
          "output_type": "stream",
          "name": "stdout",
          "text": [
            "+-------------------+--------------------+\n",
            "|            feature|       scaledFeature|\n",
            "+-------------------+--------------------+\n",
            "|[19.0,27.9,0.0,1.0]|[-1.4382265049624...|\n",
            "|[18.0,33.8,1.0,0.0]|[-1.5094010828978...|\n",
            "|[28.0,33.0,3.0,0.0]|[-0.7976553035437...|\n",
            "|[33.0,22.7,0.0,0.0]|[-0.4417824138666...|\n",
            "|[32.0,28.9,0.0,0.0]|[-0.5129569918020...|\n",
            "|[31.0,25.7,0.0,0.0]|[-0.5841315697375...|\n",
            "+-------------------+--------------------+\n",
            "only showing top 6 rows\n",
            "\n"
          ]
        }
      ]
    },
    {
      "cell_type": "code",
      "source": [
        "#Train model for two principal component analysis\n",
        "\n",
        "n_components = 2\n",
        "pca = PCA(\n",
        "    k = n_components,\n",
        "    inputCol = 'scaledFeature',\n",
        "    outputCol = 'pcafeature').fit(df_scaled)\n",
        "\n",
        "df_pca = pca.transform(df_scaled)\n",
        "print(\"Explained Variance ratio\", pca.explainedVariance.toArray())\n",
        "df_pca.show(6)"
      ],
      "metadata": {
        "colab": {
          "base_uri": "https://localhost:8080/"
        },
        "id": "EbG9gECpIHjJ",
        "outputId": "be33c864-00bf-47d2-934c-71caecf50d34"
      },
      "execution_count": 16,
      "outputs": [
        {
          "output_type": "stream",
          "name": "stdout",
          "text": [
            "Explained Variance ratio [0.28081393 0.25167095]\n",
            "+-------------------+--------------------+--------------------+\n",
            "|            feature|       scaledFeature|          pcafeature|\n",
            "+-------------------+--------------------+--------------------+\n",
            "|[19.0,27.9,0.0,1.0]|[-1.4382265049624...|[1.76584887644129...|\n",
            "|[18.0,33.8,1.0,0.0]|[-1.5094010828978...|[0.69084157358246...|\n",
            "|[28.0,33.0,3.0,0.0]|[-0.7976553035437...|[-0.2168417424277...|\n",
            "|[33.0,22.7,0.0,0.0]|[-0.4417824138666...|[1.36997404924438...|\n",
            "|[32.0,28.9,0.0,0.0]|[-0.5129569918020...|[0.76401552788294...|\n",
            "|[31.0,25.7,0.0,0.0]|[-0.5841315697375...|[1.15185672501018...|\n",
            "+-------------------+--------------------+--------------------+\n",
            "only showing top 6 rows\n",
            "\n"
          ]
        }
      ]
    },
    {
      "cell_type": "code",
      "source": [
        "#Collect distributed data in numpy array and then convert to pandas dataframe\n",
        "X_pca = df_pca.rdd.map(lambda row: row.pcafeature).collect()\n",
        "X_pca = np.array(X_pca)"
      ],
      "metadata": {
        "id": "1HCiSzvCINQN"
      },
      "execution_count": 17,
      "outputs": []
    },
    {
      "cell_type": "code",
      "source": [
        "X_pca"
      ],
      "metadata": {
        "colab": {
          "base_uri": "https://localhost:8080/"
        },
        "id": "S1xMZAWRIQP1",
        "outputId": "b08c76a3-d69f-4d2a-f70e-8a0371871201"
      },
      "execution_count": 18,
      "outputs": [
        {
          "output_type": "execute_result",
          "data": {
            "text/plain": [
              "array([[ 1.76584888, -1.41089899],\n",
              "       [ 0.69084157,  0.34613202],\n",
              "       [-0.21684174, -0.38098497],\n",
              "       ...,\n",
              "       [ 0.61159812,  0.73590454],\n",
              "       [ 1.63654838,  0.77264639],\n",
              "       [-0.44112795, -1.15521627]])"
            ]
          },
          "metadata": {},
          "execution_count": 18
        }
      ]
    },
    {
      "cell_type": "code",
      "source": [
        "#Convery Array to DF\n",
        "df_pca = pd.DataFrame(X_pca, columns=['PC1','PC2'])\n",
        "df_pca.head()"
      ],
      "metadata": {
        "colab": {
          "base_uri": "https://localhost:8080/",
          "height": 206
        },
        "id": "foZPh9soIRz1",
        "outputId": "b2d4adb9-19c9-42b9-ae87-66d57b9b94a2"
      },
      "execution_count": 19,
      "outputs": [
        {
          "output_type": "execute_result",
          "data": {
            "text/plain": [
              "        PC1       PC2\n",
              "0  1.765849 -1.410899\n",
              "1  0.690842  0.346132\n",
              "2 -0.216842 -0.380985\n",
              "3  1.369974  0.851386\n",
              "4  0.764016  0.835009"
            ],
            "text/html": [
              "\n",
              "  <div id=\"df-9186449f-5640-4864-9efb-2eaca4aa360c\">\n",
              "    <div class=\"colab-df-container\">\n",
              "      <div>\n",
              "<style scoped>\n",
              "    .dataframe tbody tr th:only-of-type {\n",
              "        vertical-align: middle;\n",
              "    }\n",
              "\n",
              "    .dataframe tbody tr th {\n",
              "        vertical-align: top;\n",
              "    }\n",
              "\n",
              "    .dataframe thead th {\n",
              "        text-align: right;\n",
              "    }\n",
              "</style>\n",
              "<table border=\"1\" class=\"dataframe\">\n",
              "  <thead>\n",
              "    <tr style=\"text-align: right;\">\n",
              "      <th></th>\n",
              "      <th>PC1</th>\n",
              "      <th>PC2</th>\n",
              "    </tr>\n",
              "  </thead>\n",
              "  <tbody>\n",
              "    <tr>\n",
              "      <th>0</th>\n",
              "      <td>1.765849</td>\n",
              "      <td>-1.410899</td>\n",
              "    </tr>\n",
              "    <tr>\n",
              "      <th>1</th>\n",
              "      <td>0.690842</td>\n",
              "      <td>0.346132</td>\n",
              "    </tr>\n",
              "    <tr>\n",
              "      <th>2</th>\n",
              "      <td>-0.216842</td>\n",
              "      <td>-0.380985</td>\n",
              "    </tr>\n",
              "    <tr>\n",
              "      <th>3</th>\n",
              "      <td>1.369974</td>\n",
              "      <td>0.851386</td>\n",
              "    </tr>\n",
              "    <tr>\n",
              "      <th>4</th>\n",
              "      <td>0.764016</td>\n",
              "      <td>0.835009</td>\n",
              "    </tr>\n",
              "  </tbody>\n",
              "</table>\n",
              "</div>\n",
              "      <button class=\"colab-df-convert\" onclick=\"convertToInteractive('df-9186449f-5640-4864-9efb-2eaca4aa360c')\"\n",
              "              title=\"Convert this dataframe to an interactive table.\"\n",
              "              style=\"display:none;\">\n",
              "        \n",
              "  <svg xmlns=\"http://www.w3.org/2000/svg\" height=\"24px\"viewBox=\"0 0 24 24\"\n",
              "       width=\"24px\">\n",
              "    <path d=\"M0 0h24v24H0V0z\" fill=\"none\"/>\n",
              "    <path d=\"M18.56 5.44l.94 2.06.94-2.06 2.06-.94-2.06-.94-.94-2.06-.94 2.06-2.06.94zm-11 1L8.5 8.5l.94-2.06 2.06-.94-2.06-.94L8.5 2.5l-.94 2.06-2.06.94zm10 10l.94 2.06.94-2.06 2.06-.94-2.06-.94-.94-2.06-.94 2.06-2.06.94z\"/><path d=\"M17.41 7.96l-1.37-1.37c-.4-.4-.92-.59-1.43-.59-.52 0-1.04.2-1.43.59L10.3 9.45l-7.72 7.72c-.78.78-.78 2.05 0 2.83L4 21.41c.39.39.9.59 1.41.59.51 0 1.02-.2 1.41-.59l7.78-7.78 2.81-2.81c.8-.78.8-2.07 0-2.86zM5.41 20L4 18.59l7.72-7.72 1.47 1.35L5.41 20z\"/>\n",
              "  </svg>\n",
              "      </button>\n",
              "      \n",
              "  <style>\n",
              "    .colab-df-container {\n",
              "      display:flex;\n",
              "      flex-wrap:wrap;\n",
              "      gap: 12px;\n",
              "    }\n",
              "\n",
              "    .colab-df-convert {\n",
              "      background-color: #E8F0FE;\n",
              "      border: none;\n",
              "      border-radius: 50%;\n",
              "      cursor: pointer;\n",
              "      display: none;\n",
              "      fill: #1967D2;\n",
              "      height: 32px;\n",
              "      padding: 0 0 0 0;\n",
              "      width: 32px;\n",
              "    }\n",
              "\n",
              "    .colab-df-convert:hover {\n",
              "      background-color: #E2EBFA;\n",
              "      box-shadow: 0px 1px 2px rgba(60, 64, 67, 0.3), 0px 1px 3px 1px rgba(60, 64, 67, 0.15);\n",
              "      fill: #174EA6;\n",
              "    }\n",
              "\n",
              "    [theme=dark] .colab-df-convert {\n",
              "      background-color: #3B4455;\n",
              "      fill: #D2E3FC;\n",
              "    }\n",
              "\n",
              "    [theme=dark] .colab-df-convert:hover {\n",
              "      background-color: #434B5C;\n",
              "      box-shadow: 0px 1px 3px 1px rgba(0, 0, 0, 0.15);\n",
              "      filter: drop-shadow(0px 1px 2px rgba(0, 0, 0, 0.3));\n",
              "      fill: #FFFFFF;\n",
              "    }\n",
              "  </style>\n",
              "\n",
              "      <script>\n",
              "        const buttonEl =\n",
              "          document.querySelector('#df-9186449f-5640-4864-9efb-2eaca4aa360c button.colab-df-convert');\n",
              "        buttonEl.style.display =\n",
              "          google.colab.kernel.accessAllowed ? 'block' : 'none';\n",
              "\n",
              "        async function convertToInteractive(key) {\n",
              "          const element = document.querySelector('#df-9186449f-5640-4864-9efb-2eaca4aa360c');\n",
              "          const dataTable =\n",
              "            await google.colab.kernel.invokeFunction('convertToInteractive',\n",
              "                                                     [key], {});\n",
              "          if (!dataTable) return;\n",
              "\n",
              "          const docLinkHtml = 'Like what you see? Visit the ' +\n",
              "            '<a target=\"_blank\" href=https://colab.research.google.com/notebooks/data_table.ipynb>data table notebook</a>'\n",
              "            + ' to learn more about interactive tables.';\n",
              "          element.innerHTML = '';\n",
              "          dataTable['output_type'] = 'display_data';\n",
              "          await google.colab.output.renderOutput(dataTable, element);\n",
              "          const docLink = document.createElement('div');\n",
              "          docLink.innerHTML = docLinkHtml;\n",
              "          element.appendChild(docLink);\n",
              "        }\n",
              "      </script>\n",
              "    </div>\n",
              "  </div>\n",
              "  "
            ]
          },
          "metadata": {},
          "execution_count": 19
        }
      ]
    },
    {
      "cell_type": "code",
      "source": [
        "#Plot two principal components\n",
        "plt.rcParams['figure.figsize'] = 8,6\n",
        "plt.rcParams['font.size'] = 12\n",
        "ax1 = df_pca.plot.scatter(x='PC1', y='PC2', c='DarkGreen')"
      ],
      "metadata": {
        "colab": {
          "base_uri": "https://localhost:8080/",
          "height": 394
        },
        "id": "wCY0htq1IV9i",
        "outputId": "22168e6f-56c9-45b0-fde3-5b36202251c8"
      },
      "execution_count": 22,
      "outputs": [
        {
          "output_type": "display_data",
          "data": {
            "text/plain": [
              "<Figure size 576x432 with 1 Axes>"
            ],
            "image/png": "[encoded data removed]"
          },
          "metadata": {
            "needs_background": "light"
          }
        }
      ]
    },
    {
      "cell_type": "code",
      "source": [
        "#Vectorize features and target together for model development\n",
        "#Linear Regression\n",
        "output = assembler.transform(dataset)\n",
        "\n",
        "#input vs output\n",
        "finalized_data = output.select('feature','expenses')\n",
        "finalized_data.show()"
      ],
      "metadata": {
        "colab": {
          "base_uri": "https://localhost:8080/"
        },
        "id": "I2ygAaAMIc6g",
        "outputId": "44ff7db7-12af-4dfe-a376-8c7605c330f4"
      },
      "execution_count": 28,
      "outputs": [
        {
          "output_type": "stream",
          "name": "stdout",
          "text": [
            "+-------------------+--------+\n",
            "|            feature|expenses|\n",
            "+-------------------+--------+\n",
            "|[19.0,27.9,0.0,1.0]|16884.92|\n",
            "|[18.0,33.8,1.0,0.0]| 1725.55|\n",
            "|[28.0,33.0,3.0,0.0]| 4449.46|\n",
            "|[33.0,22.7,0.0,0.0]|21984.47|\n",
            "|[32.0,28.9,0.0,0.0]| 3866.86|\n",
            "|[31.0,25.7,0.0,0.0]| 3756.62|\n",
            "|[46.0,33.4,1.0,0.0]| 8240.59|\n",
            "|[37.0,27.7,3.0,0.0]| 7281.51|\n",
            "|[37.0,29.8,2.0,0.0]| 6406.41|\n",
            "|[60.0,25.8,0.0,0.0]|28923.14|\n",
            "|[25.0,26.2,0.0,0.0]| 2721.32|\n",
            "|[62.0,26.3,0.0,1.0]|27808.73|\n",
            "|[23.0,34.4,0.0,0.0]| 1826.84|\n",
            "|[56.0,39.8,0.0,0.0]|11090.72|\n",
            "|[27.0,42.1,0.0,1.0]|39611.76|\n",
            "|[19.0,24.6,1.0,0.0]| 1837.24|\n",
            "|[52.0,30.8,1.0,0.0]|10797.34|\n",
            "|[23.0,23.8,0.0,0.0]| 2395.17|\n",
            "|[56.0,40.3,0.0,0.0]|10602.39|\n",
            "|[30.0,35.3,0.0,1.0]|36837.47|\n",
            "+-------------------+--------+\n",
            "only showing top 20 rows\n",
            "\n"
          ]
        }
      ]
    },
    {
      "cell_type": "code",
      "source": [
        "#Split dataset into training and testing dataset\n",
        "train_data, test_data = finalized_data.randomSplit([0.8,0.2]) "
      ],
      "metadata": {
        "id": "LOWNGRdRItPi"
      },
      "execution_count": 29,
      "outputs": []
    },
    {
      "cell_type": "code",
      "source": [
        "#Fitting Model\n",
        "regressor = LinearRegression(featuresCol='feature', labelCol='expenses')\n",
        "\n",
        "regressor = regressor.fit(train_data)"
      ],
      "metadata": {
        "id": "YCcfJbSwJI1S"
      },
      "execution_count": 30,
      "outputs": []
    },
    {
      "cell_type": "code",
      "source": [
        "regressor"
      ],
      "metadata": {
        "colab": {
          "base_uri": "https://localhost:8080/"
        },
        "id": "hAxDvWKtJdS5",
        "outputId": "a8bead71-c2c4-4d0d-c416-345dfe891934"
      },
      "execution_count": 31,
      "outputs": [
        {
          "output_type": "execute_result",
          "data": {
            "text/plain": [
              "LinearRegressionModel: uid=LinearRegression_344a7b0f531e, numFeatures=4"
            ]
          },
          "metadata": {},
          "execution_count": 31
        }
      ]
    },
    {
      "cell_type": "code",
      "source": [
        "#Find out model coefficients and intercept\n",
        "coeff = regressor.coefficients\n",
        "intr = regressor.intercept\n",
        "\n",
        "print(\"The coef of Model is : %a\" %coeff)\n",
        "print(\"The Intercept of the model is: %f\" %intr)"
      ],
      "metadata": {
        "colab": {
          "base_uri": "https://localhost:8080/"
        },
        "id": "mHIIKz3BJxHR",
        "outputId": "93083b49-7f56-405d-8b45-e4bad0a6211a"
      },
      "execution_count": 32,
      "outputs": [
        {
          "output_type": "stream",
          "name": "stdout",
          "text": [
            "The coef of Model is : DenseVector([257.6489, 344.4252, 552.1479, 23279.8581])\n",
            "The Intercept of the model is: -12810.044845\n"
          ]
        }
      ]
    },
    {
      "cell_type": "code",
      "source": [
        "#Evaluate model for test dataset\n",
        "pred = regressor.evaluate(test_data)\n",
        "\n",
        "#predict the model\n",
        "pred.predictions.show()"
      ],
      "metadata": {
        "colab": {
          "base_uri": "https://localhost:8080/"
        },
        "id": "69hbg07EJyyh",
        "outputId": "aded3965-4504-434b-ffee-f96b7fbe058d"
      },
      "execution_count": 33,
      "outputs": [
        {
          "output_type": "stream",
          "name": "stdout",
          "text": [
            "+-------------------+--------+-------------------+\n",
            "|            feature|expenses|         prediction|\n",
            "+-------------------+--------+-------------------+\n",
            "|[18.0,23.1,0.0,0.0]|  1704.7|-216.14340247221298|\n",
            "|[18.0,23.2,0.0,0.0]| 1121.87|-181.70088607699108|\n",
            "|[18.0,26.1,0.0,0.0]| 1708.93|  817.1320893845077|\n",
            "|[18.0,26.3,0.0,0.0]| 2198.19|  886.0171221749551|\n",
            "|[18.0,26.7,0.0,0.0]| 1615.77| 1023.7871877558518|\n",
            "|[18.0,30.1,0.0,0.0]|21344.85| 2194.8327451934692|\n",
            "|[18.0,32.1,2.0,0.0]| 2801.26|   3987.97894254498|\n",
            "|[18.0,33.3,0.0,0.0]| 1135.94| 3296.9932698406374|\n",
            "|[18.0,33.7,0.0,0.0]|  1136.4|  3434.763335421536|\n",
            "|[18.0,33.9,0.0,0.0]|11482.63| 3503.6483682119815|\n",
            "|[18.0,37.3,0.0,0.0]| 1141.45|  4674.693925649599|\n",
            "|[18.0,37.3,1.0,0.0]| 2219.45|  5226.841860373113|\n",
            "|[18.0,39.2,0.0,0.0]| 1633.04|  5329.101737158855|\n",
            "|[18.0,40.3,0.0,0.0]| 1634.57|  5707.969417506321|\n",
            "|[19.0,17.5,0.0,0.0]| 1621.34| -1887.275423115807|\n",
            "|[19.0,21.8,0.0,0.0]| 1627.28| -406.2472181211724|\n",
            "|[19.0,24.6,1.0,0.0]| 1837.24| 1110.2911756686135|\n",
            "|[19.0,27.7,0.0,1.0]|16297.85| 24905.719364915334|\n",
            "|[19.0,27.9,3.0,0.0]| 18838.7|  3351.190086158038|\n",
            "|[19.0,28.3,0.0,1.0]|17081.08|  25112.37446328668|\n",
            "+-------------------+--------+-------------------+\n",
            "only showing top 20 rows\n",
            "\n"
          ]
        }
      ]
    },
    {
      "cell_type": "code",
      "source": [
        "from pyspark.ml.evaluation import RegressionEvaluator\n",
        "eval = RegressionEvaluator(labelCol = \"expenses\", predictionCol = \"prediction\", metricName = \"rmse\")\n",
        "\n",
        "#Root Mean Square Error\n",
        "rmse = eval.evaluate(pred.predictions)\n",
        "print(\"RMSE : %f\" %rmse)\n",
        "\n",
        "#mean square error\n",
        "mse = eval.evaluate(pred.predictions,{eval.metricName: \"mse\"})\n",
        "print(\"MSE: %.3f\" % mse)\n",
        "\n",
        "#mean absolute error\n",
        "mae = eval.evaluate(pred.predictions,{eval.metricName: \"mae\"})\n",
        "print(\"MAE: %.3f\" % mae)\n",
        "\n",
        "#r2 - coefficient\n",
        "r2 = eval.evaluate(pred.predictions,{eval.metricName: \"r2\"})\n",
        "print(\"r2: %.3f\" % r2)"
      ],
      "metadata": {
        "colab": {
          "base_uri": "https://localhost:8080/"
        },
        "id": "7Yc-1rkSJ39H",
        "outputId": "c5195b05-6578-42c2-e480-d0a973c0a013"
      },
      "execution_count": 35,
      "outputs": [
        {
          "output_type": "stream",
          "name": "stdout",
          "text": [
            "RMSE : 5377.889128\n",
            "MSE: 28921691.475\n",
            "MAE: 3684.011\n",
            "r2: 0.798\n"
          ]
        }
      ]
    }
  ]
}